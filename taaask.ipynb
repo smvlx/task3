{
 "cells": [
  {
   "cell_type": "code",
   "execution_count": 3,
   "metadata": {
    "collapsed": true
   },
   "outputs": [],
   "source": [
    "import numpy as np\n",
    "import pandas as pd\n",
    "import glob as gb \n",
    "import os"
   ]
  },
  {
   "cell_type": "markdown",
   "metadata": {},
   "source": [
    "### Состояние склада на каждый день"
   ]
  },
  {
   "cell_type": "markdown",
   "metadata": {},
   "source": [
    "Создание имени файла"
   ]
  },
  {
   "cell_type": "code",
   "execution_count": 4,
   "metadata": {
    "collapsed": true
   },
   "outputs": [],
   "source": [
    "def create_filenames(letter, number):\n",
    "    c = chr(ord('0') + number)\n",
    "    str_i = 'MS-' + letter + c + '-inventory.csv'\n",
    "    str_sl = 'MS-' + letter + c + '-sell.csv'\n",
    "    str_spl = 'MS-' + letter + c + '-supply.csv'\n",
    "    str_d = 'MS-' + letter + c + '-daily.csv'\n",
    "    str_st = 'MS-' + letter + c + '-stolen'\n",
    "    return str_i, str_sl, str_spl, str_d, str_st"
   ]
  },
  {
   "cell_type": "markdown",
   "metadata": {},
   "source": [
    "Количество магазинов в штате"
   ]
  },
  {
   "cell_type": "code",
   "execution_count": 5,
   "metadata": {
    "collapsed": true
   },
   "outputs": [],
   "source": [
    "def num_shop(state):\n",
    "    \n",
    "    if state == 'b' or state == 'm':\n",
    "        max = 2\n",
    "    elif state == 's':\n",
    "        max = 5\n",
    "    return max"
   ]
  },
  {
   "cell_type": "markdown",
   "metadata": {},
   "source": [
    "Чтение файлов "
   ]
  },
  {
   "cell_type": "code",
   "execution_count": 6,
   "metadata": {
    "collapsed": true
   },
   "outputs": [],
   "source": [
    "def get_files(state, directory):\n",
    "    max = num_shop(state)\n",
    "    files = {}\n",
    "    path = {}\n",
    "    shop = 0\n",
    "    while shop < max:\n",
    "        c = chr(ord('0') + shop + 1)\n",
    "        path[shop] = gb.glob(directory + state + c + '*.csv')\n",
    "        print(path[shop])\n",
    "        files[shop] = {}\n",
    "        for j in range(0, len(path[shop])):\n",
    "            print(\"opening: \", path[shop][j])\n",
    "            files[shop][j]= pd.read_csv(path[shop][j], index_col='date', parse_dates=True, dayfirst=True)\n",
    "        shop = shop + 1\n",
    "    return files, max"
   ]
  },
  {
   "cell_type": "markdown",
   "metadata": {},
   "source": [
    "Подсчет общего количества проданного товара за день"
   ]
  },
  {
   "cell_type": "code",
   "execution_count": 7,
   "metadata": {
    "collapsed": true
   },
   "outputs": [],
   "source": [
    "def sell_upg(sell):\n",
    "    \n",
    "    upg_tmp = pd.DataFrame(columns=['sku_num'], index = sell.index)\n",
    "    upg_tmp['sku_num'] = sell['sku_num'].apply(lambda x: 0 if x.find('ap') == 6 else 1)\n",
    "    daily = pd.crosstab(upg_tmp.index, upg_tmp['sku_num'], margins = True)\n",
    "    daily = daily.drop(['All'])\n",
    "    daily_new = pd.DataFrame(columns=['apple', 'pen'], index = upg_tmp.index.drop_duplicates())\n",
    "    daily_new['apple'] = daily[0].values\n",
    "    daily_new['pen'] = daily[1].values\n",
    "        \n",
    "    return daily_new"
   ]
  },
  {
   "cell_type": "code",
   "execution_count": 8,
   "metadata": {
    "collapsed": true
   },
   "outputs": [],
   "source": [
    "INV = 0\n",
    "SELL = 1\n",
    "SPL = 2\n",
    "DAILY = 3\n",
    "STOLEN = 4"
   ]
  },
  {
   "cell_type": "markdown",
   "metadata": {},
   "source": [
    "### Task 1"
   ]
  },
  {
   "cell_type": "code",
   "execution_count": 9,
   "metadata": {
    "collapsed": true
   },
   "outputs": [],
   "source": [
    "def daily_store(sell, supply):\n",
    "\n",
    "    daily_new = pd.DataFrame(columns=['apple', 'pen'], index = sell.index)\n",
    "    daily_new['apple'] = -sell['apple']\n",
    "    daily_new['pen'] = -sell['pen']\n",
    "\n",
    "    df = pd.concat([supply, daily_new]).sort_index()\n",
    "    df = df.resample('D').sum()\n",
    "\n",
    "    l = df.index.size\n",
    "    df['apple_sum'] = df['apple'].rolling(str(l) + 'D').sum()\n",
    "    df['pen_sum'] = df['pen'].rolling(str(l) + 'D').sum()\n",
    "    df = df.drop(['apple', 'pen'], axis=1)\n",
    "    df = df.rename(columns={'apple_sum': 'apple', 'pen_sum': 'pen'})  \n",
    "    return df\n",
    "    "
   ]
  },
  {
   "cell_type": "markdown",
   "metadata": {},
   "source": [
    "### Task 2"
   ]
  },
  {
   "cell_type": "code",
   "execution_count": 10,
   "metadata": {
    "collapsed": true
   },
   "outputs": [],
   "source": [
    "def stolen(sell, supply, inventory):\n",
    "    st = pd.DataFrame(columns=['apple', 'pen'], index = inventory.index)\n",
    "    sell = sell.resample('M').sum()\n",
    "    supply = supply.resample('M').sum()\n",
    "    inv = pd.DataFrame(columns=['apple', 'pen'], index = inventory.index)\n",
    "    inv['apple'] = inventory['apple'] - inventory['apple'] .shift(1)\n",
    "    inv.loc[inv.index[0], 'apple'] = inventory.loc[inventory.index[0], 'apple']\n",
    "    inv['pen'] = inventory['pen'] - inventory['pen'] .shift(1)\n",
    "    inv.loc[inv.index[0], 'pen'] = inventory.loc[inventory.index[0], 'pen']\n",
    "    st['apple'] = inv['apple'] + sell['apple'] - supply['apple']\n",
    "    st['pen'] = inv['pen'] + sell['pen'] - supply['pen'] \n",
    "    return st.abs()"
   ]
  },
  {
   "cell_type": "markdown",
   "metadata": {},
   "source": [
    "### Task 3"
   ]
  },
  {
   "cell_type": "code",
   "execution_count": 11,
   "metadata": {
    "collapsed": true
   },
   "outputs": [],
   "source": [
    "def year_table(sold, stolen):\n",
    "    states = ['b', 'm', 's']\n",
    "    res = {}\n",
    "    t = {}\n",
    "    for i in range(0,3):\n",
    "        t[i] = pd.DataFrame(index = sold[i].index)\n",
    "    for state in range(0, 3):\n",
    "        t[state] = sold[state].rename(columns= {'apple': 'apple_sold', 'pen': 'pen_sold'})\n",
    "        t[state].insert(2, 'apple_stolen', stolen[state]['apple'])\n",
    "        t[state].insert(3, 'pen_stolen', stolen[state]['pen'])\n",
    "        t[state].insert(0, 'state', states[state])\n",
    "    res = pd.concat([t[0], t[1], t[2]])\n",
    "    print(res)\n",
    "    return res\n",
    "    "
   ]
  },
  {
   "cell_type": "code",
   "execution_count": 37,
   "metadata": {
    "collapsed": true
   },
   "outputs": [],
   "source": [
    "def check_res():\n",
    "    states = ['b', 'm', 's']\n",
    "    for state in states:\n",
    "        right_ansm, maxou = get_files(state, './output/*')\n",
    "        our_ans, maxa = get_files(state, './answer/*') \n",
    "        for i in range (0, maxou):\n",
    "            if (right_ansm[i] != our_ans[i]):\n",
    "                print('ответы не сошлись')"
   ]
  },
  {
   "cell_type": "code",
   "execution_count": 12,
   "metadata": {},
   "outputs": [
    {
     "name": "stdout",
     "output_type": "stream",
     "text": [
      "['./input\\\\MS-b1-inventory.csv', './input\\\\MS-b1-sell.csv', './input\\\\MS-b1-supply.csv']\n",
      "opening:  ./input\\MS-b1-inventory.csv\n",
      "opening:  ./input\\MS-b1-sell.csv\n",
      "opening:  ./input\\MS-b1-supply.csv\n",
      "['./input\\\\MS-b2-inventory.csv', './input\\\\MS-b2-sell.csv', './input\\\\MS-b2-supply.csv']\n",
      "opening:  ./input\\MS-b2-inventory.csv\n",
      "opening:  ./input\\MS-b2-sell.csv\n",
      "opening:  ./input\\MS-b2-supply.csv\n",
      "['./input\\\\MS-m1-inventory.csv', './input\\\\MS-m1-sell.csv', './input\\\\MS-m1-supply.csv']\n",
      "opening:  ./input\\MS-m1-inventory.csv\n",
      "opening:  ./input\\MS-m1-sell.csv\n",
      "opening:  ./input\\MS-m1-supply.csv\n",
      "['./input\\\\MS-m2-inventory.csv', './input\\\\MS-m2-sell.csv', './input\\\\MS-m2-supply.csv']\n",
      "opening:  ./input\\MS-m2-inventory.csv\n",
      "opening:  ./input\\MS-m2-sell.csv\n",
      "opening:  ./input\\MS-m2-supply.csv\n",
      "['./input\\\\MS-s1-inventory.csv', './input\\\\MS-s1-sell.csv', './input\\\\MS-s1-supply.csv']\n",
      "opening:  ./input\\MS-s1-inventory.csv\n",
      "opening:  ./input\\MS-s1-sell.csv\n",
      "opening:  ./input\\MS-s1-supply.csv\n",
      "['./input\\\\MS-s2-inventory.csv', './input\\\\MS-s2-sell.csv', './input\\\\MS-s2-supply.csv']\n",
      "opening:  ./input\\MS-s2-inventory.csv\n",
      "opening:  ./input\\MS-s2-sell.csv\n",
      "opening:  ./input\\MS-s2-supply.csv\n",
      "['./input\\\\MS-s3-inventory.csv', './input\\\\MS-s3-sell.csv', './input\\\\MS-s3-supply.csv']\n",
      "opening:  ./input\\MS-s3-inventory.csv\n",
      "opening:  ./input\\MS-s3-sell.csv\n",
      "opening:  ./input\\MS-s3-supply.csv\n",
      "['./input\\\\MS-s4-inventory.csv', './input\\\\MS-s4-sell.csv', './input\\\\MS-s4-supply.csv']\n",
      "opening:  ./input\\MS-s4-inventory.csv\n",
      "opening:  ./input\\MS-s4-sell.csv\n",
      "opening:  ./input\\MS-s4-supply.csv\n",
      "['./input\\\\MS-s5-inventory.csv', './input\\\\MS-s5-sell.csv', './input\\\\MS-s5-supply.csv']\n",
      "opening:  ./input\\MS-s5-inventory.csv\n",
      "opening:  ./input\\MS-s5-sell.csv\n",
      "opening:  ./input\\MS-s5-supply.csv\n"
     ]
    }
   ],
   "source": [
    "files = {}\n",
    "max =  {}\n",
    "files[0],  max[0] = get_files('b', './input/*')\n",
    "files[1],  max[1] = get_files('m', './input/*')\n",
    "files[2],  max[2] = get_files('s', './input/*')"
   ]
  },
  {
   "cell_type": "code",
   "execution_count": 14,
   "metadata": {},
   "outputs": [
    {
     "name": "stdout",
     "output_type": "stream",
     "text": [
      "daily\n",
      "               apple     pen\n",
      "date                       \n",
      "2006-01-01  33271.0  2574.0\n",
      "2006-01-02  31409.0  2431.0\n",
      "2006-01-03  29529.0  2260.0\n",
      "2006-01-04  27732.0  2107.0\n",
      "2006-01-05  25790.0  1974.0\n",
      "stolen\n",
      "             apple   pen\n",
      "date                   \n",
      "2006-01-31   10.0  11.0\n",
      "2006-02-28    6.0   6.0\n",
      "2006-03-31    7.0   6.0\n",
      "2006-04-30    6.0  14.0\n",
      "2006-05-31    8.0   1.0\n",
      "else  0   b   0\n",
      "daily\n",
      "               apple     pen\n",
      "date                       \n",
      "2006-01-01  33271.0  2574.0\n",
      "2006-01-02  31409.0  2431.0\n",
      "2006-01-03  29529.0  2260.0\n",
      "2006-01-04  27732.0  2107.0\n",
      "2006-01-05  25790.0  1974.0\n",
      "stolen\n",
      "             apple   pen\n",
      "date                   \n",
      "2006-01-31   10.0  11.0\n",
      "2006-02-28    6.0   6.0\n",
      "2006-03-31    7.0   6.0\n",
      "2006-04-30    6.0  14.0\n",
      "2006-05-31    8.0   1.0\n",
      "else  0   b   1\n",
      "daily\n",
      "               apple    pen\n",
      "date                      \n",
      "2006-01-01  14244.0  767.0\n",
      "2006-01-02  13395.0  722.0\n",
      "2006-01-03  12475.0  689.0\n",
      "2006-01-04  11601.0  634.0\n",
      "2006-01-05  10775.0  586.0\n",
      "stolen\n",
      "             apple  pen\n",
      "date                  \n",
      "2006-01-31    6.0  9.0\n",
      "2006-02-28    2.0  5.0\n",
      "2006-03-31    7.0  5.0\n",
      "2006-04-30    9.0  5.0\n",
      "2006-05-31    4.0  8.0\n",
      "else  1   m   0\n",
      "daily\n",
      "               apple    pen\n",
      "date                      \n",
      "2006-01-01  14244.0  767.0\n",
      "2006-01-02  13395.0  722.0\n",
      "2006-01-03  12475.0  689.0\n",
      "2006-01-04  11601.0  634.0\n",
      "2006-01-05  10775.0  586.0\n",
      "stolen\n",
      "             apple  pen\n",
      "date                  \n",
      "2006-01-31    6.0  9.0\n",
      "2006-02-28    2.0  5.0\n",
      "2006-03-31    7.0  5.0\n",
      "2006-04-30    9.0  5.0\n",
      "2006-05-31    4.0  8.0\n",
      "else  1   m   1\n",
      "daily\n",
      "              apple    pen\n",
      "date                     \n",
      "2006-01-01  3002.0  294.0\n",
      "2006-01-02  2923.0  288.0\n",
      "2006-01-03  2840.0  273.0\n",
      "2006-01-04  2754.0  259.0\n",
      "2006-01-05  2657.0  247.0\n",
      "stolen\n",
      "             apple  pen\n",
      "date                  \n",
      "2006-01-31    2.0  2.0\n",
      "2006-02-28    4.0  3.0\n",
      "2006-03-31    0.0  0.0\n",
      "2006-04-30    4.0  1.0\n",
      "2006-05-31    0.0  2.0\n",
      "else  2   s   0\n",
      "daily\n",
      "              apple    pen\n",
      "date                     \n",
      "2006-01-01  3002.0  294.0\n",
      "2006-01-02  2923.0  288.0\n",
      "2006-01-03  2840.0  273.0\n",
      "2006-01-04  2754.0  259.0\n",
      "2006-01-05  2657.0  247.0\n",
      "stolen\n",
      "             apple  pen\n",
      "date                  \n",
      "2006-01-31    2.0  2.0\n",
      "2006-02-28    4.0  3.0\n",
      "2006-03-31    0.0  0.0\n",
      "2006-04-30    4.0  1.0\n",
      "2006-05-31    0.0  2.0\n",
      "else  2   s   1\n",
      "daily\n",
      "              apple    pen\n",
      "date                     \n",
      "2006-01-01  2914.0  323.0\n",
      "2006-01-02  2817.0  313.0\n",
      "2006-01-03  2721.0  305.0\n",
      "2006-01-04  2616.0  293.0\n",
      "2006-01-05  2527.0  287.0\n",
      "stolen\n",
      "             apple  pen\n",
      "date                  \n",
      "2006-01-31    5.0  1.0\n",
      "2006-02-28    3.0  0.0\n",
      "2006-03-31    2.0  3.0\n",
      "2006-04-30    1.0  2.0\n",
      "2006-05-31    2.0  2.0\n",
      "else  2   s   2\n",
      "daily\n",
      "              apple    pen\n",
      "date                     \n",
      "2006-01-01  2914.0  323.0\n",
      "2006-01-02  2817.0  313.0\n",
      "2006-01-03  2721.0  305.0\n",
      "2006-01-04  2616.0  293.0\n",
      "2006-01-05  2527.0  287.0\n",
      "stolen\n",
      "             apple  pen\n",
      "date                  \n",
      "2006-01-31    5.0  1.0\n",
      "2006-02-28    3.0  0.0\n",
      "2006-03-31    2.0  3.0\n",
      "2006-04-30    1.0  2.0\n",
      "2006-05-31    2.0  2.0\n",
      "else  2   s   3\n",
      "daily\n",
      "              apple    pen\n",
      "date                     \n",
      "2006-01-01  2967.0  306.0\n",
      "2006-01-02  2874.0  294.0\n",
      "2006-01-03  2796.0  283.0\n",
      "2006-01-04  2714.0  275.0\n",
      "2006-01-05  2640.0  263.0\n",
      "stolen\n",
      "             apple  pen\n",
      "date                  \n",
      "2006-01-31    0.0  1.0\n",
      "2006-02-28    2.0  1.0\n",
      "2006-03-31    4.0  3.0\n",
      "2006-04-30    1.0  1.0\n",
      "2006-05-31    2.0  2.0\n",
      "else  2   s   4\n"
     ]
    }
   ],
   "source": [
    "sstolen = {}\n",
    "sold = {}\n",
    "for i in range(0,3):\n",
    "    sold[i] = pd.DataFrame(columns=['apple', 'pen'], index = files[i][0][SELL].index)\n",
    "    sstolen[i] = pd.DataFrame(columns=['apple', 'pen'], index=files[i][0][SELL].index)\n",
    "j = 0\n",
    "state = ['b', 'm', 's']\n",
    "for i in range(0,3):\n",
    "    shop = 0\n",
    "    while shop < max[j]:\n",
    "        files[j][shop][DAILY] = sell_upg(files[j][shop][SELL])\n",
    "        \n",
    "        dly = daily_store(files[j][shop][DAILY], files[j][shop][SPL])\n",
    "        name = create_filenames(state[i], shop + 1)[DAILY]\n",
    "        dly.to_csv('./answer/' + name, index=False)\n",
    "        \n",
    "        files[j][shop][STOLEN] = stolen(files[j][shop][DAILY], files[j][shop][SPL], files[j][shop][INV]) \n",
    "        name = create_filenames(state[i], shop + 1)[STOLEN]\n",
    "        files[j][shop][STOLEN].to_csv('./answer/' + name, index=False)\n",
    "\n",
    "        sold[j] = pd.concat([sold[j], files[j][shop][DAILY]]).sort_index()\n",
    "        sstolen[j] = pd.concat([sstolen[j], files[j][shop][STOLEN]]).sort_index()\n",
    "        sold[j] = sold[j].resample('12M').sum()\n",
    "        sstolen[j] = sstolen[j].resample('12M').sum()\n",
    "        shop = shop + 1\n",
    "    j = j + 1;\n"
   ]
  },
  {
   "cell_type": "code",
   "execution_count": 15,
   "metadata": {},
   "outputs": [
    {
     "name": "stdout",
     "output_type": "stream",
     "text": [
      "           state  apple_sold  pen_sold  apple_stolen  pen_stolen\n",
      "date                                                            \n",
      "2006-01-31     b      115842      9066          20.0        22.0\n",
      "2007-01-31     b     1362080    104792         152.0       182.0\n",
      "2008-01-31     b     1363028    103870         124.0       144.0\n",
      "2009-01-31     b     1369680    104082         158.0       152.0\n",
      "2010-01-31     b     1365148    105078         164.0       190.0\n",
      "2011-01-31     b     1362124    104984         142.0       188.0\n",
      "2012-01-31     b     1365296    104096         174.0       206.0\n",
      "2013-01-31     b     1370318    105232         166.0       176.0\n",
      "2014-01-31     b     1365902    104736         150.0       174.0\n",
      "2015-01-31     b     1365274    103600         176.0       186.0\n",
      "2016-01-31     b     1247436     95044         142.0       134.0\n",
      "2006-01-31     m       52748      2862          12.0        18.0\n",
      "2007-01-31     m      620198     32262         130.0       148.0\n",
      "2008-01-31     m      618086     32350         134.0       106.0\n",
      "2009-01-31     m      622632     32214         118.0       110.0\n",
      "2010-01-31     m      619208     32506         140.0       130.0\n",
      "2011-01-31     m      620230     31792         120.0       130.0\n",
      "2012-01-31     m      618380     31630         120.0       120.0\n",
      "2013-01-31     m      620774     32482         116.0       122.0\n",
      "2014-01-31     m      622216     32406         110.0       126.0\n",
      "2015-01-31     m      619444     32502         142.0       124.0\n",
      "2016-01-31     m      566364     29144          88.0       108.0\n",
      "2006-01-31     s       14493      1601          14.0         7.0\n",
      "2007-01-31     s      169316     18176         134.0       115.0\n",
      "2008-01-31     s      168973     18316         109.0        94.0\n",
      "2009-01-31     s      170741     18354          98.0       130.0\n",
      "2010-01-31     s      169141     18240         146.0       121.0\n",
      "2011-01-31     s      168794     18372         155.0       136.0\n",
      "2012-01-31     s      169252     18273         128.0       120.0\n",
      "2013-01-31     s      170237     18129         103.0       125.0\n",
      "2014-01-31     s      169009     17840         109.0       137.0\n",
      "2015-01-31     s      169046     17991         110.0       137.0\n",
      "2016-01-31     s      155560     16571         106.0       119.0\n"
     ]
    }
   ],
   "source": [
    "year = year_table(sold, sstolen)\n",
    "year.to_csv('./answer/year_table.csv', index=False)"
   ]
  },
  {
   "cell_type": "code",
   "execution_count": null,
   "metadata": {
    "collapsed": true
   },
   "outputs": [],
   "source": []
  }
 ],
 "metadata": {
  "kernelspec": {
   "display_name": "Python 3",
   "language": "python",
   "name": "python3"
  },
  "language_info": {
   "codemirror_mode": {
    "name": "ipython",
    "version": 3
   },
   "file_extension": ".py",
   "mimetype": "text/x-python",
   "name": "python",
   "nbconvert_exporter": "python",
   "pygments_lexer": "ipython3",
   "version": "3.6.1"
  }
 },
 "nbformat": 4,
 "nbformat_minor": 2
}
